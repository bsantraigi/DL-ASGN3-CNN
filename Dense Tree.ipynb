{
 "cells": [
  {
   "cell_type": "code",
   "execution_count": 2,
   "metadata": {
    "collapsed": true
   },
   "outputs": [],
   "source": [
    "import numpy as np\n",
    "import os\n",
    "import train_dense\n",
    "import train_cnn"
   ]
  },
  {
   "cell_type": "code",
   "execution_count": 3,
   "metadata": {
    "collapsed": true
   },
   "outputs": [],
   "source": [
    "def load_mnist():\n",
    "    data_dir = '../data'\n",
    "\n",
    "    fd = open(os.path.join(data_dir, 'train-images-idx3-ubyte'))\n",
    "    loaded = np.fromfile(file=fd, dtype=np.uint8)\n",
    "    trX = loaded[16:].reshape((60000, 28, 28, 1)).astype(np.float)\n",
    "\n",
    "    fd = open(os.path.join(data_dir, 'train-labels-idx1-ubyte'))\n",
    "    loaded = np.fromfile(file=fd, dtype=np.uint8)\n",
    "    trY = loaded[8:].reshape((60000)).astype(np.int)\n",
    "\n",
    "    fd = open(os.path.join(data_dir, 't10k-images-idx3-ubyte'))\n",
    "    loaded = np.fromfile(file=fd, dtype=np.uint8)\n",
    "    teX = loaded[16:].reshape((10000, 28, 28, 1)).astype(np.float)\n",
    "\n",
    "    fd = open(os.path.join(data_dir, 't10k-labels-idx1-ubyte'))\n",
    "    loaded = np.fromfile(file=fd, dtype=np.uint8)\n",
    "    teY = loaded[8:].reshape((10000)).astype(np.int)\n",
    "\n",
    "    trY = np.asarray(trY)\n",
    "    teY = np.asarray(teY)\n",
    "\n",
    "    perm = np.random.permutation(trY.shape[0])\n",
    "    trX = trX[perm]\n",
    "    trY = trY[perm]\n",
    "\n",
    "    perm = np.random.permutation(teY.shape[0])\n",
    "    teX = teX[perm]\n",
    "    teY = teY[perm]\n",
    "\n",
    "    return trX, trY, teX, teY"
   ]
  },
  {
   "cell_type": "code",
   "execution_count": 4,
   "metadata": {
    "collapsed": false
   },
   "outputs": [],
   "source": [
    "def print_digit(digit_pixels, label='?'):\n",
    "    for i in range(28):\n",
    "        for j in range(28):\n",
    "            if digit_pixels[i, j] > 128:\n",
    "                print('# ', end = '')\n",
    "            else:\n",
    "                print('. ', end = '')\n",
    "        print('')\n",
    "\n",
    "    print('Label: ', label)"
   ]
  },
  {
   "cell_type": "code",
   "execution_count": 5,
   "metadata": {
    "collapsed": true
   },
   "outputs": [],
   "source": [
    "trainX, trainY, testX, testY = load_mnist()"
   ]
  },
  {
   "cell_type": "code",
   "execution_count": 6,
   "metadata": {
    "collapsed": false
   },
   "outputs": [
    {
     "name": "stdout",
     "output_type": "stream",
     "text": [
      "Shapes:  (60000, 28, 28, 1) (60000,) (10000, 28, 28, 1) (10000,)\n",
      "\n",
      "Digit sample\n",
      ". . . . . . . . . . . . . . . . . . . . . . . . . . . . \n",
      ". . . . . . . . . . . . . . . . . . . . . . . . . . . . \n",
      ". . . . . . . . . . . . . . . . . . . . . . . . . . . . \n",
      ". . . . . . . . . . . . . . . . . . . . . . . . . . . . \n",
      ". . . . . . . . . . . . . . . . . . . . . . . . . . . . \n",
      ". . . . . . . . . . . . . . . . . . . . . . . . . . . . \n",
      ". . . . . . . . . . . . # # # . . . . . . . . . . . . . \n",
      ". . . . . . . . . . . # # # # # # . . . . . . . . . . . \n",
      ". . . . . . . . . . # # # # # # # . . . . . . . . . . . \n",
      ". . . . . . . . . # # . . . . # # # . . . . . . . . . . \n",
      ". . . . . . . . # # # . . . . . # # . . . . . . . . . . \n",
      ". . . . . . . . # # # . . . . . # # # . . . . . . . . . \n",
      ". . . . . . . . # # # # # # # # # # # . . . . . . . . . \n",
      ". . . . . . . . . # # # # # # # # # # . . . . . . . . . \n",
      ". . . . . . . . . . . . . . . # # # # . . . . . . . . . \n",
      ". . . . . . . . . . . . . . . # # # # . . . . . . . . . \n",
      ". . . . . . . . . . . . . . . . # # . . . . . . . . . . \n",
      ". . . . . . . . . . . . . . . # # # . . . . . . . . . . \n",
      ". . . . . . . . . . . . . . . # # # . . . . . . . . . . \n",
      ". . . . . . . . . . . . . . # # # . . . . . . . . . . . \n",
      ". . . . . . . . . . . . . . # # # . . . . . . . . . . . \n",
      ". . . . . . . . . . . . . . # # . . . . . . . . . . . . \n",
      ". . . . . . . . . . . . . . # # . . . . . . . . . . . . \n",
      ". . . . . . . . . . . . . # # # # # . . . . . . . . . . \n",
      ". . . . . . . . . . . . . . # # # . . . . . . . . . . . \n",
      ". . . . . . . . . . . . . . . # # . . . . . . . . . . . \n",
      ". . . . . . . . . . . . . . . . . . . . . . . . . . . . \n",
      ". . . . . . . . . . . . . . . . . . . . . . . . . . . . \n",
      "Label:  9\n"
     ]
    }
   ],
   "source": [
    "print(\"Shapes: \", trainX.shape, trainY.shape, testX.shape, testY.shape)\n",
    "\n",
    "print(\"\\nDigit sample\")\n",
    "print_digit(trainX[1], trainY[1])"
   ]
  },
  {
   "cell_type": "code",
   "execution_count": 7,
   "metadata": {
    "collapsed": false
   },
   "outputs": [
    {
     "name": "stdout",
     "output_type": "stream",
     "text": [
      "\n",
      "DNN Test accuracy: 9.800000%\n"
     ]
    }
   ],
   "source": [
    "train_dense.train(trainX, trainY)\n",
    "labels = train_dense.test(testX)\n",
    "accuracy = np.mean((labels == testY)) * 100.0\n",
    "print(\"\\nDNN Test accuracy: %lf%%\" % accuracy)"
   ]
  },
  {
   "cell_type": "markdown",
   "metadata": {},
   "source": [
    "#### Train and Test functions for dense networks"
   ]
  },
  {
   "cell_type": "code",
   "execution_count": 8,
   "metadata": {
    "collapsed": false
   },
   "outputs": [],
   "source": [
    "import tensorflow as tf"
   ]
  },
  {
   "cell_type": "code",
   "execution_count": 9,
   "metadata": {
    "collapsed": true
   },
   "outputs": [],
   "source": [
    "def test(testX):\n",
    "\n",
    "    return np.zeros(testX.shape[0])"
   ]
  },
  {
   "cell_type": "code",
   "execution_count": 28,
   "metadata": {
    "collapsed": false
   },
   "outputs": [
    {
     "name": "stdout",
     "output_type": "stream",
     "text": [
      "(60000, 784)\n",
      "(60000, 10)\n",
      "(10000, 784)\n",
      "(10000, 10)\n"
     ]
    }
   ],
   "source": [
    "# def train(trainX, trainY):\n",
    "def modify(X, Y):\n",
    "    X_mod = np.ndarray((X.shape[0], 28*28))\n",
    "    for i in range(X.shape[0]):\n",
    "        X_mod[i, :, None] = np.reshape(X[i, :, :], (28*28, 1))\n",
    "    \n",
    "    Y_mod = np.zeros((X.shape[0], 10))\n",
    "    for i in range(Y.shape[0]):\n",
    "        Y_mod[i, Y[i]] = 1\n",
    "    print(X_mod.shape)\n",
    "    print(Y_mod.shape)\n",
    "    \n",
    "    return X_mod, Y_mod\n",
    "    \n",
    "trainX_mod, trainY_mod = modify(trainX, trainY)\n",
    "testX_mod, testY_mod = modify(testX, testY)\n",
    "    \n",
    "# RUN\n",
    "# train(trainX, trainY)"
   ]
  },
  {
   "cell_type": "code",
   "execution_count": null,
   "metadata": {
    "collapsed": true
   },
   "outputs": [],
   "source": [
    "learning_rate = 0.001\n",
    "training_epochs = 5\n",
    "batch_size = 100\n",
    "\n",
    "input_dim = 28*28\n",
    "\n",
    "n_input = input_dim\n",
    "n_hidden_1 = int(input_dim/2) + 5\n",
    "n_output = 10\n",
    "\n",
    "x = tf.placeholder('float', [None, n_input])\n",
    "y = tf.placeholder('float', [None, n_output])\n",
    "\n",
    "def mperceptron(x, weights, biases):\n",
    "    layer_1 = tf.add(tf.matmul(x, weights['h1']), biases['b1'])\n",
    "    layer_1 = tf.nn.relu(layer_1)\n",
    "\n",
    "    # layer_2 = tf.add(tf.matmul(layer_1, weights['h2']), biases['b2'])\n",
    "    # layer_2 = tf.nn.relu(layer_2)\n",
    "\n",
    "    out_layer = tf.matmul(layer_1, weights['out']) + biases['out']\n",
    "    return out_layer\n",
    "\n",
    "weights = {\n",
    "    'h1' : tf.Variable(tf.random_normal([n_input, n_hidden_1], 0, 0.001)),\n",
    "    # 'h2': tf.Variable(tf.random_normal([n_hidden_1, n_hidden_2], 0, 0.001)),\n",
    "    'out' : tf.Variable(tf.random_normal([n_hidden_1, n_output], 0, 0.001))\n",
    "}\n",
    "\n",
    "biases = {\n",
    "    'b1' : tf.Variable(tf.random_normal([n_hidden_1], 0, 0.001)),\n",
    "    # 'b2': tf.Variable(tf.random_normal([n_hidden_2], 0, 0.001)),\n",
    "    'out' : tf.Variable(tf.random_normal([n_output], 0, 0.001))\n",
    "}\n",
    "\n",
    "pred = mperceptron(x, weights, biases)\n",
    "\n",
    "cost = tf.reduce_mean(tf.nn.softmax_cross_entropy_with_logits(logits=pred, labels=y))\n",
    "optimizer = tf.train.AdamOptimizer(learning_rate=learning_rate).minimize(cost)\n",
    "\n",
    "init = tf.global_variables_initializer()\n",
    "\n",
    "sess = tf.Session()    \n",
    "sess.run(init)"
   ]
  },
  {
   "cell_type": "code",
   "execution_count": 32,
   "metadata": {
    "collapsed": true
   },
   "outputs": [],
   "source": [
    "epochs = 5\n",
    "batches = 100\n",
    "batch_size = int((trainX_mod.shape[0])/batches)\n",
    "\n",
    "for _ in range(epochs):\n",
    "    for bx in range(batches):\n",
    "        batch_indices = list(range((bx*batch_size), (bx + 1)*batch_size))\n",
    "        _, c = sess.run([optimizer, cost], \\\n",
    "                        feed_dict={x: trainX_mod[batch_indices, :],\\\n",
    "                                   y: trainY_mod[batch_indices]})"
   ]
  },
  {
   "cell_type": "code",
   "execution_count": 36,
   "metadata": {
    "collapsed": false
   },
   "outputs": [
    {
     "name": "stdout",
     "output_type": "stream",
     "text": [
      "9733 10000\n"
     ]
    }
   ],
   "source": [
    "y_hat = sess.run(pred, feed_dict={x: testX_mod})\n",
    "\n",
    "# Check performance\n",
    "correct_prediction = sess.run(tf.equal(tf.argmax(pred, 1), tf.argmax(y, 1)), feed_dict={x: testX_mod, y:testY_mod})\n",
    "print(np.sum(correct_prediction), y_hat.shape[0])"
   ]
  },
  {
   "cell_type": "code",
   "execution_count": 21,
   "metadata": {
    "collapsed": false
   },
   "outputs": [],
   "source": [
    "# sess.close()"
   ]
  },
  {
   "cell_type": "code",
   "execution_count": 22,
   "metadata": {
    "collapsed": false
   },
   "outputs": [
    {
     "data": {
      "text/plain": [
       "(60000, 784)"
      ]
     },
     "execution_count": 22,
     "metadata": {},
     "output_type": "execute_result"
    }
   ],
   "source": [
    "trainX_mod.shape"
   ]
  },
  {
   "cell_type": "code",
   "execution_count": 30,
   "metadata": {
    "collapsed": false
   },
   "outputs": [
    {
     "data": {
      "text/plain": [
       "array([[ 0.,  0.,  0., ...,  0.,  0.,  1.],\n",
       "       [ 0.,  0.,  0., ...,  0.,  0.,  1.],\n",
       "       [ 0.,  0.,  0., ...,  1.,  0.,  0.],\n",
       "       ..., \n",
       "       [ 0.,  0.,  0., ...,  0.,  1.,  0.],\n",
       "       [ 0.,  0.,  0., ...,  0.,  0.,  0.],\n",
       "       [ 1.,  0.,  0., ...,  0.,  0.,  0.]])"
      ]
     },
     "execution_count": 30,
     "metadata": {},
     "output_type": "execute_result"
    }
   ],
   "source": [
    "trainY_mod"
   ]
  },
  {
   "cell_type": "code",
   "execution_count": null,
   "metadata": {
    "collapsed": true
   },
   "outputs": [],
   "source": []
  }
 ],
 "metadata": {
  "anaconda-cloud": {},
  "kernelspec": {
   "display_name": "Python [conda env:tensorflow_tuts]",
   "language": "python",
   "name": "conda-env-tensorflow_tuts-py"
  },
  "language_info": {
   "codemirror_mode": {
    "name": "ipython",
    "version": 3
   },
   "file_extension": ".py",
   "mimetype": "text/x-python",
   "name": "python",
   "nbconvert_exporter": "python",
   "pygments_lexer": "ipython3",
   "version": "3.5.2"
  }
 },
 "nbformat": 4,
 "nbformat_minor": 1
}
