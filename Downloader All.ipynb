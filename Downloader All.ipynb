{
 "cells": [
  {
   "cell_type": "code",
   "execution_count": 3,
   "metadata": {
    "collapsed": true
   },
   "outputs": [],
   "source": [
    "import requests\n",
    "import os"
   ]
  },
  {
   "cell_type": "code",
   "execution_count": 19,
   "metadata": {
    "collapsed": false
   },
   "outputs": [],
   "source": [
    "def downloadData_DNN():\n",
    "    http_proxy  = \"http://10.3.100.207:8080\"\n",
    "    https_proxy = \"http://10.3.100.207:8080\"\n",
    "    ftp_proxy   = \"http://10.3.100.207:8080\"\n",
    "\n",
    "    proxyDict = { \n",
    "                  \"http\"  : http_proxy, \n",
    "                  \"https\" : https_proxy, \n",
    "                  \"ftp\"   : ftp_proxy\n",
    "                }\n",
    "    \n",
    "    base = 'https://raw.githubusercontent.com/studiobytestorm/DL-ASGN3-CNN/master/tmp/'\n",
    "    \n",
    "    #weightList = ['checkpoint','graph.pbtxt', 'model.ckpt-2241.data-00000-of-00001', 'model.ckpt-2241.index', 'model.ckpt-2241.meta', 'model.ckpt-2242.data-00000-of-00001', 'model.ckpt-2242.index', 'model.ckpt-2242.meta', 'model.ckpt-4241.data-00000-of-00001', 'model.ckpt-4241.index', 'model.ckpt-4241.meta', 'model.ckpt-4242.data-00000-of-00001', 'model.ckpt-4242.index', 'model.ckpt-4242.meta', 'model.ckpt-6241.data-00000-of-00001', 'model.ckpt-6241.index', 'model.ckpt-6241.meta']\n",
    "    weightList = ['checkpoint', 'events.out.tfevents.1489824501.MSI', 'graph.pbtxt', 'model.ckpt-1.index',\\\n",
    "                  'model.ckpt-1.meta', 'model.ckpt-2000.data-00000-of-00001', 'model.ckpt-2000.index', 'model.ckpt-2000.meta']\n",
    "#     path_root_root = './dtmp/'\n",
    "    path_root = './dtmp/'\n",
    "    if not os.path.exists(path_root):\n",
    "        os.makedirs(path_root)\n",
    "    \n",
    "    count = 0\n",
    "    total = len(weightList)\n",
    "    \n",
    "    print('Downloading DNN Weights: 1 of the files will take some time!')\n",
    "    for name in weightList:\n",
    "        url = base + name\n",
    "        print('Downloading File: ', name)\n",
    "        stream = requests.get(url, proxyDict)\n",
    "        np_f = open(path_root + name, 'wb')\n",
    "        np_f.write(stream.content)\n",
    "        np_f.close()\n",
    "        print(count+1,'/',total,' Complete')\n",
    "        count += 1\n",
    "        \n",
    "    print('Download Complete')"
   ]
  },
  {
   "cell_type": "code",
   "execution_count": 20,
   "metadata": {
    "collapsed": false
   },
   "outputs": [
    {
     "name": "stdout",
     "output_type": "stream",
     "text": [
      "Downloading DNN Weights\n",
      "Downloading File:  checkpoint\n",
      "1 / 8  Complete\n",
      "Downloading File:  events.out.tfevents.1489824501.MSI\n",
      "2 / 8  Complete\n",
      "Downloading File:  graph.pbtxt\n",
      "3 / 8  Complete\n",
      "Downloading File:  model.ckpt-1.index\n",
      "4 / 8  Complete\n",
      "Downloading File:  model.ckpt-1.meta\n",
      "5 / 8  Complete\n",
      "Downloading File:  model.ckpt-2000.data-00000-of-00001\n",
      "6 / 8  Complete\n",
      "Downloading File:  model.ckpt-2000.index\n",
      "7 / 8  Complete\n",
      "Downloading File:  model.ckpt-2000.meta\n",
      "8 / 8  Complete\n",
      "Download Complete\n"
     ]
    }
   ],
   "source": [
    "downloadData_DNN()"
   ]
  },
  {
   "cell_type": "code",
   "execution_count": null,
   "metadata": {
    "collapsed": true
   },
   "outputs": [],
   "source": []
  },
  {
   "cell_type": "code",
   "execution_count": null,
   "metadata": {
    "collapsed": false
   },
   "outputs": [],
   "source": []
  },
  {
   "cell_type": "code",
   "execution_count": null,
   "metadata": {
    "collapsed": true
   },
   "outputs": [],
   "source": []
  }
 ],
 "metadata": {
  "anaconda-cloud": {},
  "kernelspec": {
   "display_name": "Python [conda env:tensorflow_tuts]",
   "language": "python",
   "name": "conda-env-tensorflow_tuts-py"
  },
  "language_info": {
   "codemirror_mode": {
    "name": "ipython",
    "version": 3
   },
   "file_extension": ".py",
   "mimetype": "text/x-python",
   "name": "python",
   "nbconvert_exporter": "python",
   "pygments_lexer": "ipython3",
   "version": "3.5.2"
  }
 },
 "nbformat": 4,
 "nbformat_minor": 1
}
