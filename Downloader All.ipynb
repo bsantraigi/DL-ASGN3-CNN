{
 "cells": [
  {
   "cell_type": "code",
   "execution_count": 3,
   "metadata": {
    "collapsed": true
   },
   "outputs": [],
   "source": [
    "import requests\n",
    "import os"
   ]
  },
  {
   "cell_type": "code",
   "execution_count": 6,
   "metadata": {
    "collapsed": false
   },
   "outputs": [],
   "source": [
    "def downloadData_DNN():\n",
    "    http_proxy  = \"http://10.3.100.207:8080\"\n",
    "    https_proxy = \"https://10.3.100.207:8080\"\n",
    "    ftp_proxy   = \"ftp://10.3.100.207:8080\"\n",
    "\n",
    "    proxyDict = { \n",
    "                  \"http\"  : http_proxy, \n",
    "                  \"https\" : https_proxy, \n",
    "                  \"ftp\"   : ftp_proxy\n",
    "                }\n",
    "    \n",
    "    base = 'https://raw.githubusercontent.com/studiobytestorm/DL-ASGN3-CNN/master/tmp/mnist_convnet_model/'\n",
    "    \n",
    "    weightList = ['checkpoint','graph.pbtxt', 'model.ckpt-2241.data-00000-of-00001', 'model.ckpt-2241.index', 'model.ckpt-2241.meta', 'model.ckpt-2242.data-00000-of-00001', 'model.ckpt-2242.index', 'model.ckpt-2242.meta', 'model.ckpt-4241.data-00000-of-00001', 'model.ckpt-4241.index', 'model.ckpt-4241.meta', 'model.ckpt-4242.data-00000-of-00001', 'model.ckpt-4242.index', 'model.ckpt-4242.meta', 'model.ckpt-6241.data-00000-of-00001', 'model.ckpt-6241.index', 'model.ckpt-6241.meta']\n",
    "\n",
    "#     path_root_root = './dtmp/'\n",
    "    path_root = './tmp2/mnist_convnet_model'\n",
    "    if not os.path.exists(path_root):\n",
    "        os.makedirs(path_root)\n",
    "    \n",
    "    count = 0\n",
    "    total = len(weightList)\n",
    "    \n",
    "    print('Downloading DNN Weights')\n",
    "    for name in weightList:\n",
    "        url = base + name\n",
    "        stream = requests.get(url, proxyDict)\n",
    "        print(stream)\n",
    "#         np_f = open(path_root + name, 'wb')\n",
    "#         np_f.write(stream.content)\n",
    "#         np_f.close()\n",
    "        print(count+1,'/',total,' Complete')\n",
    "        count += 1\n",
    "        break\n",
    "        \n",
    "    print('Download Complete')"
   ]
  },
  {
   "cell_type": "code",
   "execution_count": 7,
   "metadata": {
    "collapsed": false
   },
   "outputs": [
    {
     "name": "stdout",
     "output_type": "stream",
     "text": [
      "Downloading DNN Weights\n",
      "<Response [200]>\n",
      "1 / 17  Complete\n",
      "Download Complete\n"
     ]
    }
   ],
   "source": [
    "downloadData_DNN()"
   ]
  },
  {
   "cell_type": "code",
   "execution_count": null,
   "metadata": {
    "collapsed": true
   },
   "outputs": [],
   "source": [
    "weightList = ['checkpoint', 'graph.pbtxt', 'model.ckpt-2241.data-00000-of-00001', 'model.ckpt-2241.index', 'model.ckpt-2241.meta', 'model.ckpt-2242.data-00000-of-00001', 'model.ckpt-2242.index', 'model.ckpt-2242.meta', 'model.ckpt-4241.data-00000-of-00001', 'model.ckpt-4241.index', 'model.ckpt-4241.meta', 'model.ckpt-4242.data-00000-of-00001', 'model.ckpt-4242.index', 'model.ckpt-4242.meta', 'model.ckpt-6241.data-00000-of-00001', 'model.ckpt-6241.index', 'model.ckpt-6241.meta']\n",
    "print(len(weightList))"
   ]
  },
  {
   "cell_type": "code",
   "execution_count": 19,
   "metadata": {
    "collapsed": false
   },
   "outputs": [
    {
     "ename": "NameError",
     "evalue": "name 'stream' is not defined",
     "output_type": "error",
     "traceback": [
      "\u001b[1;31m---------------------------------------------------------------------------\u001b[0m",
      "\u001b[1;31mNameError\u001b[0m                                 Traceback (most recent call last)",
      "\u001b[1;32m<ipython-input-19-4392eabdec41>\u001b[0m in \u001b[0;36m<module>\u001b[1;34m()\u001b[0m\n\u001b[1;32m----> 1\u001b[1;33m \u001b[0mstream\u001b[0m\u001b[1;33m\u001b[0m\u001b[0m\n\u001b[0m",
      "\u001b[1;31mNameError\u001b[0m: name 'stream' is not defined"
     ]
    }
   ],
   "source": []
  }
 ],
 "metadata": {
  "anaconda-cloud": {},
  "kernelspec": {
   "display_name": "Python [conda env:tensorflow_tuts]",
   "language": "python",
   "name": "conda-env-tensorflow_tuts-py"
  },
  "language_info": {
   "codemirror_mode": {
    "name": "ipython",
    "version": 3
   },
   "file_extension": ".py",
   "mimetype": "text/x-python",
   "name": "python",
   "nbconvert_exporter": "python",
   "pygments_lexer": "ipython3",
   "version": "3.5.2"
  }
 },
 "nbformat": 4,
 "nbformat_minor": 1
}
