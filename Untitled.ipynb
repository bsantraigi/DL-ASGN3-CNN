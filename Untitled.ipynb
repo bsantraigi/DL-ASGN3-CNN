{
 "cells": [
  {
   "cell_type": "code",
   "execution_count": 12,
   "metadata": {
    "collapsed": false
   },
   "outputs": [],
   "source": [
    "import requests\n",
    "\n",
    "def downloadData_DNN():\n",
    "    http_proxy  = \"http://10.3.100.207:8080\"\n",
    "    https_proxy = \"https://10.3.100.207:8080\"\n",
    "    ftp_proxy   = \"ftp://10.3.100.207:8080\"\n",
    "\n",
    "    proxyDict = { \n",
    "                  \"http\"  : http_proxy, \n",
    "                  \"https\" : https_proxy, \n",
    "                  \"ftp\"   : ftp_proxy\n",
    "                }\n",
    "    \n",
    "    base = 'https://raw.githubusercontent.com/studiobytestorm/DL-ASGN3-CNN/master/tmp/mnist_convnet_model/checkpoint'\n",
    "    \n",
    "    weightList = ['checkpoint','graph.pbtxt', 'model.ckpt-2241.data-00000-of-00001', 'model.ckpt-2241.index', 'model.ckpt-2241.meta', 'model.ckpt-2242.data-00000-of-00001', 'model.ckpt-2242.index', 'model.ckpt-2242.meta', 'model.ckpt-4241.data-00000-of-00001', 'model.ckpt-4241.index', 'model.ckpt-4241.meta', 'model.ckpt-4242.data-00000-of-00001', 'model.ckpt-4242.index', 'model.ckpt-4242.meta', 'model.ckpt-6241.data-00000-of-00001', 'model.ckpt-6241.index', 'model.ckpt-6241.meta']\n",
    "\n",
    "    path_root = './tmp2/'\n",
    "    if not os.path.exists(path_root):\n",
    "        os.makedirs(path_root)\n",
    "    \n",
    "    count = 0\n",
    "    total = len(weightList)\n",
    "    \n",
    "    print('Downloading DNN Weights')\n",
    "    for name in weightList:\n",
    "        url = base + name\n",
    "        stream = requests.get(url, proxyDict)\n",
    "        np_f = open(path_root + name, 'wb')\n",
    "        np_f.write(stream.content)\n",
    "        np_f.close()\n",
    "        print(count+1,'/',total,' Complete')\n",
    "        count += 1\n",
    "        \n",
    "    print('Download Complete')\n"
   ]
  },
  {
   "cell_type": "code",
   "execution_count": 13,
   "metadata": {
    "collapsed": false
   },
   "outputs": [
    {
     "name": "stdout",
     "output_type": "stream",
     "text": [
      "Downloading DNN Weights\n",
      "1 / 17  Complete\n",
      "2 / 17  Complete\n",
      "3 / 17  Complete\n",
      "4 / 17  Complete\n",
      "5 / 17  Complete\n",
      "6 / 17  Complete\n",
      "7 / 17  Complete\n",
      "8 / 17  Complete\n",
      "9 / 17  Complete\n",
      "10 / 17  Complete\n",
      "11 / 17  Complete\n",
      "12 / 17  Complete\n",
      "13 / 17  Complete\n",
      "14 / 17  Complete\n",
      "15 / 17  Complete\n",
      "16 / 17  Complete\n",
      "17 / 17  Complete\n",
      "Download Complete\n"
     ]
    }
   ],
   "source": [
    "downloadData_DNN()"
   ]
  },
  {
   "cell_type": "code",
   "execution_count": 9,
   "metadata": {
    "collapsed": false
   },
   "outputs": [
    {
     "name": "stdout",
     "output_type": "stream",
     "text": [
      "17\n"
     ]
    }
   ],
   "source": [
    "weightList = ['checkpoint', 'graph.pbtxt', 'model.ckpt-2241.data-00000-of-00001', 'model.ckpt-2241.index', 'model.ckpt-2241.meta', 'model.ckpt-2242.data-00000-of-00001', 'model.ckpt-2242.index', 'model.ckpt-2242.meta', 'model.ckpt-4241.data-00000-of-00001', 'model.ckpt-4241.index', 'model.ckpt-4241.meta', 'model.ckpt-4242.data-00000-of-00001', 'model.ckpt-4242.index', 'model.ckpt-4242.meta', 'model.ckpt-6241.data-00000-of-00001', 'model.ckpt-6241.index', 'model.ckpt-6241.meta']\n",
    "print(len(weightList))"
   ]
  }
 ],
 "metadata": {
  "kernelspec": {
   "display_name": "Python [conda env:tensorflow_tuts]",
   "language": "python",
   "name": "conda-env-tensorflow_tuts-py"
  },
  "language_info": {
   "codemirror_mode": {
    "name": "ipython",
    "version": 3
   },
   "file_extension": ".py",
   "mimetype": "text/x-python",
   "name": "python",
   "nbconvert_exporter": "python",
   "pygments_lexer": "ipython3",
   "version": "3.5.2"
  }
 },
 "nbformat": 4,
 "nbformat_minor": 1
}
